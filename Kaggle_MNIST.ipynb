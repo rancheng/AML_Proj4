{
 "cells": [
  {
   "cell_type": "markdown",
   "metadata": {
    "collapsed": true
   },
   "source": [
    "# COMP 551 Project 4 Kaggle MNIST\n",
    "\n",
    "### Ran Cheng, 260768706   |   XXXX, XXXXXXX    |    XXXX, XXXXXXX"
   ]
  },
  {
   "cell_type": "markdown",
   "metadata": {},
   "source": [
    "### Read Image"
   ]
  },
  {
   "cell_type": "code",
   "execution_count": 1,
   "metadata": {},
   "outputs": [],
   "source": [
    "%matplotlib inline\n",
    "# import data\n",
    "import numpy   as np \n",
    "import scipy.misc # to visualize only  \n",
    "x = np.loadtxt(\"./Data/train_x.csv\", delimiter=\",\") # load from text \n",
    "y = np.loadtxt(\"./Data/train_y.csv\", delimiter=\",\") \n",
    "x = x.reshape(-1, 64, 64) # reshape \n",
    "y = y.reshape(-1, 1)"
   ]
  },
  {
   "cell_type": "markdown",
   "metadata": {},
   "source": [
    "### Pre-process Image"
   ]
  },
  {
   "cell_type": "code",
   "execution_count": 2,
   "metadata": {},
   "outputs": [],
   "source": [
    "import math\n",
    "import numpy as np\n",
    "from skimage import measure\n",
    "import matplotlib.pyplot as plt\n",
    "from skimage.transform import resize\n",
    "\n",
    "def preProcessing(img):\n",
    "    #plt.imshow(img)\n",
    "    img[img < 255] = 0\n",
    "    img[img > 0] = 1\n",
    "    # Find contours at a constant value of 0.8\n",
    "    contours = measure.find_contours(img, 0.8)\n",
    "    # Find the biggest contour as candidate digital image\n",
    "    max_diff = -100\n",
    "    max_contor = None\n",
    "    for contor in contours:\n",
    "        x_diff = max(contor[:,1]) - min(contor[:,1])\n",
    "        y_diff = max(contor[:,0]) - min(contor[:,0])\n",
    "        # print('contour[ %d]'%i,  'x_diff: %0.2f' % x_diff, 'y_diff: %0.2f' % y_diff)\n",
    "        current_diff = max(x_diff, y_diff)\n",
    "        if current_diff > max_diff:\n",
    "            max_contor = contor\n",
    "            max_diff = current_diff\n",
    "    # Display the image and plot all contours found\n",
    "    # fig, ax = plt.subplots()\n",
    "    # ax.imshow(img, interpolation='nearest', cmap=plt.cm.gray)\n",
    "    # ax.plot(max_contor[:, 1], max_contor[:, 0], linewidth=2)\n",
    "    if max_contor is None:\n",
    "        return resize(img, (16, 16), mode='wrap')\n",
    "    box_x_s = math.floor(min(max_contor[:,1]))\n",
    "    box_x_e = math.ceil(max(max_contor[:,1]))\n",
    "    box_y_s = math.floor(min(max_contor[:,0]))\n",
    "    box_y_e = math.ceil(max(max_contor[:,0]))\n",
    "    img = img[box_y_s:box_y_e, box_x_s:box_x_e]\n",
    "    img = resize(img, (16, 16), mode='wrap')\n",
    "    return img"
   ]
  },
  {
   "cell_type": "code",
   "execution_count": 5,
   "metadata": {},
   "outputs": [],
   "source": [
    "# import multiprocessing\n",
    "\n",
    "# jobs = []\n",
    "# for i in range(len(x)):\n",
    "#     p = multiprocessing.Process(target=preProcessing, args=(x[i],))\n",
    "#     jobs.append(p)\n",
    "#     p.start()"
   ]
  },
  {
   "cell_type": "code",
   "execution_count": 3,
   "metadata": {},
   "outputs": [],
   "source": [
    "X_train_raw = []\n",
    "for i in range(len(x)):\n",
    "    X_train_raw.append(preProcessing(x[i]))"
   ]
  },
  {
   "cell_type": "code",
   "execution_count": 4,
   "metadata": {},
   "outputs": [],
   "source": [
    "#split data to train and test\n",
    "#from sklearn.cross_validation import train_test_split\n",
    "from sklearn.model_selection import train_test_split\n",
    "X_train, X_test, y_train, y_test = train_test_split(X_train_raw, y, test_size=0.15, random_state=42)\n",
    "y_train = np.ravel(y_train)\n",
    "y_test = np.ravel(y_test)"
   ]
  },
  {
   "cell_type": "code",
   "execution_count": 5,
   "metadata": {},
   "outputs": [
    {
     "name": "stdout",
     "output_type": "stream",
     "text": [
      "6.0\n"
     ]
    },
    {
     "data": {
      "image/png": "[encoded data removed]",
      "text/plain": [
       "<matplotlib.figure.Figure at 0x7fe08c0a0048>"
      ]
     },
     "metadata": {},
     "output_type": "display_data"
    }
   ],
   "source": [
    "plt.imshow(X_test[23])\n",
    "print(y_test[23])"
   ]
  },
  {
   "cell_type": "markdown",
   "metadata": {},
   "source": [
    "### 1. Start With Baseline, Linear SVM"
   ]
  },
  {
   "cell_type": "code",
   "execution_count": 22,
   "metadata": {},
   "outputs": [],
   "source": [
    "from sklearn import datasets, svm, metrics\n",
    "\n",
    "############### Classification with grid search ##############\n",
    "# If you don't want to wait, comment this section and uncommnet section below with\n",
    "# standalone SVM classifier\n",
    "\n",
    "# Create parameters grid for RBF kernel, we have to set C and gamma\n",
    "from sklearn.model_selection import GridSearchCV\n",
    "# generate matrix with all gammas\n",
    "# [ [10^-4, 2*10^-4, 5*10^-4], \n",
    "#   [10^-3, 2*10^-3, 5*10^-3],\n",
    "#   ......\n",
    "#   [10^3, 2*10^3, 5*10^3] ]\n",
    "#gamma_range = np.outer(np.logspace(-4, 3, 8),np.array([1,2, 5]))\n",
    "gamma_range = np.outer(np.logspace(-3, 0, 4),np.array([1,5]))\n",
    "gamma_range = gamma_range.flatten()\n",
    "\n",
    "# generate matrix with all C\n",
    "#C_range = np.outer(np.logspace(-3, 3, 7),np.array([1,2, 5]))\n",
    "C_range = np.outer(np.logspace(-1, 1, 3),np.array([1,5]))\n",
    "# flatten matrix, change to 1D numpy array\n",
    "C_range = C_range.flatten()\n",
    "\n",
    "parameters = {'kernel':['rbf'], 'C':C_range, 'gamma': gamma_range}"
   ]
  },
  {
   "cell_type": "code",
   "execution_count": 13,
   "metadata": {},
   "outputs": [],
   "source": [
    "# reshape X data to 2d for linear fitting\n",
    "X_train = np.asarray(X_train)\n",
    "nsamples, nx, ny = X_train.shape\n",
    "X_train = X_train.reshape((nsamples,nx*ny))\n",
    "X_test = np.asarray(X_test)\n",
    "nsamples, nx, ny = X_test.shape\n",
    "X_test = X_test.reshape((nsamples,nx*ny))"
   ]
  },
  {
   "cell_type": "code",
   "execution_count": 27,
   "metadata": {},
   "outputs": [],
   "source": [
    "from matplotlib.colors import Normalize\n",
    "class MidpointNormalize(Normalize):\n",
    "\n",
    "    def __init__(self, vmin=None, vmax=None, midpoint=None, clip=False):\n",
    "        self.midpoint = midpoint\n",
    "        Normalize.__init__(self, vmin, vmax, clip)\n",
    "\n",
    "    def __call__(self, value, clip=None):\n",
    "        x, y = [self.vmin, self.midpoint, self.vmax], [0, 0.5, 1]\n",
    "        return np.ma.masked_array(np.interp(value, x, y))\n",
    "def plot_param_space_scores(scores, C_range, gamma_range):\n",
    "    \"\"\"\n",
    "    Draw heatmap of the validation accuracy as a function of gamma and C\n",
    "    \n",
    "    \n",
    "    Parameters\n",
    "    ----------\n",
    "    scores - 2D numpy array with accuracies\n",
    "    \n",
    "    \"\"\"\n",
    "    #\n",
    "    # The score are encoded as colors with the hot colormap which varies from dark\n",
    "    # red to bright yellow. As the most interesting scores are all located in the\n",
    "    # 0.92 to 0.97 range we use a custom normalizer to set the mid-point to 0.92 so\n",
    "    # as to make it easier to visualize the small variations of score values in the\n",
    "    # interesting range while not brutally collapsing all the low score values to\n",
    "    # the same color.\n",
    "\n",
    "    \n",
    "    plt.figure(figsize=(8, 6))\n",
    "    plt.subplots_adjust(left=.2, right=0.95, bottom=0.15, top=0.95)\n",
    "    plt.imshow(scores, interpolation='nearest', cmap=plt.cm.jet,\n",
    "               norm=MidpointNormalize(vmin=0.5, midpoint=0.9))\n",
    "    plt.xlabel('gamma')\n",
    "    plt.ylabel('C')\n",
    "    plt.colorbar()\n",
    "    plt.xticks(np.arange(len(gamma_range)), gamma_range, rotation=45)\n",
    "    plt.yticks(np.arange(len(C_range)), C_range)\n",
    "    plt.title('Validation accuracy')  "
   ]
  },
  {
   "cell_type": "code",
   "execution_count": 11,
   "metadata": {},
   "outputs": [],
   "source": [
    "import time\n",
    "import datetime as dt"
   ]
  },
  {
   "cell_type": "code",
   "execution_count": 24,
   "metadata": {
    "scrolled": true
   },
   "outputs": [
    {
     "name": "stdout",
     "output_type": "stream",
     "text": [
      "Start param searching at 2018-03-09 01:31:50.882396\n",
      "Fitting 3 folds for each of 48 candidates, totalling 144 fits\n",
      "[CV] gamma=0.001, C=0.1, kernel=rbf ..................................\n",
      "[CV] ................... gamma=0.001, C=0.1, kernel=rbf, total= 9.7min\n",
      "[CV] gamma=0.001, C=0.1, kernel=rbf ..................................\n"
     ]
    },
    {
     "name": "stderr",
     "output_type": "stream",
     "text": [
      "[Parallel(n_jobs=1)]: Done   1 out of   1 | elapsed: 14.2min remaining:    0.0s\n"
     ]
    },
    {
     "name": "stdout",
     "output_type": "stream",
     "text": [
      "[CV] ................... gamma=0.001, C=0.1, kernel=rbf, total= 8.4min\n",
      "[CV] gamma=0.001, C=0.1, kernel=rbf ..................................\n",
      "[CV] ................... gamma=0.001, C=0.1, kernel=rbf, total= 8.4min\n",
      "[CV] gamma=0.005, C=0.1, kernel=rbf ..................................\n",
      "[CV] ................... gamma=0.005, C=0.1, kernel=rbf, total= 5.4min\n",
      "[CV] gamma=0.005, C=0.1, kernel=rbf ..................................\n",
      "[CV] ................... gamma=0.005, C=0.1, kernel=rbf, total= 5.4min\n",
      "[CV] gamma=0.005, C=0.1, kernel=rbf ..................................\n",
      "[CV] ................... gamma=0.005, C=0.1, kernel=rbf, total= 5.4min\n",
      "[CV] gamma=0.01, C=0.1, kernel=rbf ...................................\n",
      "[CV] .................... gamma=0.01, C=0.1, kernel=rbf, total= 4.6min\n",
      "[CV] gamma=0.01, C=0.1, kernel=rbf ...................................\n",
      "[CV] .................... gamma=0.01, C=0.1, kernel=rbf, total= 4.6min\n",
      "[CV] gamma=0.01, C=0.1, kernel=rbf ...................................\n",
      "[CV] .................... gamma=0.01, C=0.1, kernel=rbf, total= 4.6min\n",
      "[CV] gamma=0.05, C=0.1, kernel=rbf ...................................\n",
      "[CV] .................... gamma=0.05, C=0.1, kernel=rbf, total= 5.1min\n",
      "[CV] gamma=0.05, C=0.1, kernel=rbf ...................................\n",
      "[CV] .................... gamma=0.05, C=0.1, kernel=rbf, total= 5.2min\n",
      "[CV] gamma=0.05, C=0.1, kernel=rbf ...................................\n",
      "[CV] .................... gamma=0.05, C=0.1, kernel=rbf, total= 5.2min\n",
      "[CV] gamma=0.1, C=0.1, kernel=rbf ....................................\n",
      "[CV] ..................... gamma=0.1, C=0.1, kernel=rbf, total= 9.1min\n",
      "[CV] gamma=0.1, C=0.1, kernel=rbf ....................................\n",
      "[CV] ..................... gamma=0.1, C=0.1, kernel=rbf, total= 9.2min\n",
      "[CV] gamma=0.1, C=0.1, kernel=rbf ....................................\n",
      "[CV] ..................... gamma=0.1, C=0.1, kernel=rbf, total= 9.2min\n",
      "[CV] gamma=0.5, C=0.1, kernel=rbf ....................................\n",
      "[CV] ..................... gamma=0.5, C=0.1, kernel=rbf, total=13.5min\n",
      "[CV] gamma=0.5, C=0.1, kernel=rbf ....................................\n",
      "[CV] ..................... gamma=0.5, C=0.1, kernel=rbf, total=13.5min\n",
      "[CV] gamma=0.5, C=0.1, kernel=rbf ....................................\n",
      "[CV] ..................... gamma=0.5, C=0.1, kernel=rbf, total=13.4min\n",
      "[CV] gamma=1.0, C=0.1, kernel=rbf ....................................\n",
      "[CV] ..................... gamma=1.0, C=0.1, kernel=rbf, total=13.5min\n",
      "[CV] gamma=1.0, C=0.1, kernel=rbf ....................................\n",
      "[CV] ..................... gamma=1.0, C=0.1, kernel=rbf, total=13.5min\n",
      "[CV] gamma=1.0, C=0.1, kernel=rbf ....................................\n",
      "[CV] ..................... gamma=1.0, C=0.1, kernel=rbf, total=13.5min\n",
      "[CV] gamma=5.0, C=0.1, kernel=rbf ....................................\n",
      "[CV] ..................... gamma=5.0, C=0.1, kernel=rbf, total=13.4min\n",
      "[CV] gamma=5.0, C=0.1, kernel=rbf ....................................\n",
      "[CV] ..................... gamma=5.0, C=0.1, kernel=rbf, total=13.4min\n",
      "[CV] gamma=5.0, C=0.1, kernel=rbf ....................................\n",
      "[CV] ..................... gamma=5.0, C=0.1, kernel=rbf, total=13.4min\n",
      "[CV] gamma=0.001, C=0.5, kernel=rbf ..................................\n",
      "[CV] ................... gamma=0.001, C=0.5, kernel=rbf, total= 5.2min\n",
      "[CV] gamma=0.001, C=0.5, kernel=rbf ..................................\n",
      "[CV] ................... gamma=0.001, C=0.5, kernel=rbf, total= 5.3min\n",
      "[CV] gamma=0.001, C=0.5, kernel=rbf ..................................\n",
      "[CV] ................... gamma=0.001, C=0.5, kernel=rbf, total= 5.3min\n",
      "[CV] gamma=0.005, C=0.5, kernel=rbf ..................................\n",
      "[CV] ................... gamma=0.005, C=0.5, kernel=rbf, total= 3.5min\n",
      "[CV] gamma=0.005, C=0.5, kernel=rbf ..................................\n",
      "[CV] ................... gamma=0.005, C=0.5, kernel=rbf, total= 3.6min\n",
      "[CV] gamma=0.005, C=0.5, kernel=rbf ..................................\n",
      "[CV] ................... gamma=0.005, C=0.5, kernel=rbf, total= 3.6min\n",
      "[CV] gamma=0.01, C=0.5, kernel=rbf ...................................\n",
      "[CV] .................... gamma=0.01, C=0.5, kernel=rbf, total= 3.0min\n",
      "[CV] gamma=0.01, C=0.5, kernel=rbf ...................................\n",
      "[CV] .................... gamma=0.01, C=0.5, kernel=rbf, total= 3.1min\n",
      "[CV] gamma=0.01, C=0.5, kernel=rbf ...................................\n",
      "[CV] .................... gamma=0.01, C=0.5, kernel=rbf, total= 3.0min\n",
      "[CV] gamma=0.05, C=0.5, kernel=rbf ...................................\n",
      "[CV] .................... gamma=0.05, C=0.5, kernel=rbf, total= 3.6min\n",
      "[CV] gamma=0.05, C=0.5, kernel=rbf ...................................\n",
      "[CV] .................... gamma=0.05, C=0.5, kernel=rbf, total= 3.7min\n",
      "[CV] gamma=0.05, C=0.5, kernel=rbf ...................................\n",
      "[CV] .................... gamma=0.05, C=0.5, kernel=rbf, total= 3.6min\n",
      "[CV] gamma=0.1, C=0.5, kernel=rbf ....................................\n",
      "[CV] ..................... gamma=0.1, C=0.5, kernel=rbf, total= 7.0min\n",
      "[CV] gamma=0.1, C=0.5, kernel=rbf ....................................\n",
      "[CV] ..................... gamma=0.1, C=0.5, kernel=rbf, total= 7.1min\n",
      "[CV] gamma=0.1, C=0.5, kernel=rbf ....................................\n",
      "[CV] ..................... gamma=0.1, C=0.5, kernel=rbf, total= 7.1min\n",
      "[CV] gamma=0.5, C=0.5, kernel=rbf ....................................\n",
      "[CV] ..................... gamma=0.5, C=0.5, kernel=rbf, total=13.5min\n",
      "[CV] gamma=0.5, C=0.5, kernel=rbf ....................................\n",
      "[CV] ..................... gamma=0.5, C=0.5, kernel=rbf, total=13.5min\n",
      "[CV] gamma=0.5, C=0.5, kernel=rbf ....................................\n",
      "[CV] ..................... gamma=0.5, C=0.5, kernel=rbf, total=13.5min\n",
      "[CV] gamma=1.0, C=0.5, kernel=rbf ....................................\n",
      "[CV] ..................... gamma=1.0, C=0.5, kernel=rbf, total=13.5min\n",
      "[CV] gamma=1.0, C=0.5, kernel=rbf ....................................\n",
      "[CV] ..................... gamma=1.0, C=0.5, kernel=rbf, total=13.5min\n",
      "[CV] gamma=1.0, C=0.5, kernel=rbf ....................................\n",
      "[CV] ..................... gamma=1.0, C=0.5, kernel=rbf, total=13.5min\n",
      "[CV] gamma=5.0, C=0.5, kernel=rbf ....................................\n",
      "[CV] ..................... gamma=5.0, C=0.5, kernel=rbf, total=13.5min\n",
      "[CV] gamma=5.0, C=0.5, kernel=rbf ....................................\n",
      "[CV] ..................... gamma=5.0, C=0.5, kernel=rbf, total=13.5min\n",
      "[CV] gamma=5.0, C=0.5, kernel=rbf ....................................\n",
      "[CV] ..................... gamma=5.0, C=0.5, kernel=rbf, total=14.3min\n",
      "[CV] gamma=0.001, C=1.0, kernel=rbf ..................................\n",
      "[CV] ................... gamma=0.001, C=1.0, kernel=rbf, total= 4.4min\n",
      "[CV] gamma=0.001, C=1.0, kernel=rbf ..................................\n",
      "[CV] ................... gamma=0.001, C=1.0, kernel=rbf, total= 4.5min\n",
      "[CV] gamma=0.001, C=1.0, kernel=rbf ..................................\n",
      "[CV] ................... gamma=0.001, C=1.0, kernel=rbf, total= 4.4min\n",
      "[CV] gamma=0.005, C=1.0, kernel=rbf ..................................\n",
      "[CV] ................... gamma=0.005, C=1.0, kernel=rbf, total= 3.0min\n",
      "[CV] gamma=0.005, C=1.0, kernel=rbf ..................................\n",
      "[CV] ................... gamma=0.005, C=1.0, kernel=rbf, total= 3.1min\n",
      "[CV] gamma=0.005, C=1.0, kernel=rbf ..................................\n",
      "[CV] ................... gamma=0.005, C=1.0, kernel=rbf, total= 3.1min\n",
      "[CV] gamma=0.01, C=1.0, kernel=rbf ...................................\n",
      "[CV] .................... gamma=0.01, C=1.0, kernel=rbf, total= 2.6min\n",
      "[CV] gamma=0.01, C=1.0, kernel=rbf ...................................\n",
      "[CV] .................... gamma=0.01, C=1.0, kernel=rbf, total= 2.7min\n",
      "[CV] gamma=0.01, C=1.0, kernel=rbf ...................................\n",
      "[CV] .................... gamma=0.01, C=1.0, kernel=rbf, total= 2.7min\n",
      "[CV] gamma=0.05, C=1.0, kernel=rbf ...................................\n",
      "[CV] .................... gamma=0.05, C=1.0, kernel=rbf, total= 3.6min\n",
      "[CV] gamma=0.05, C=1.0, kernel=rbf ...................................\n",
      "[CV] .................... gamma=0.05, C=1.0, kernel=rbf, total= 3.9min\n",
      "[CV] gamma=0.05, C=1.0, kernel=rbf ...................................\n"
     ]
    },
    {
     "name": "stdout",
     "output_type": "stream",
     "text": [
      "[CV] .................... gamma=0.05, C=1.0, kernel=rbf, total= 3.7min\n",
      "[CV] gamma=0.1, C=1.0, kernel=rbf ....................................\n",
      "[CV] ..................... gamma=0.1, C=1.0, kernel=rbf, total= 8.0min\n",
      "[CV] gamma=0.1, C=1.0, kernel=rbf ....................................\n",
      "[CV] ..................... gamma=0.1, C=1.0, kernel=rbf, total= 8.0min\n",
      "[CV] gamma=0.1, C=1.0, kernel=rbf ....................................\n",
      "[CV] ..................... gamma=0.1, C=1.0, kernel=rbf, total= 8.1min\n",
      "[CV] gamma=0.5, C=1.0, kernel=rbf ....................................\n",
      "[CV] ..................... gamma=0.5, C=1.0, kernel=rbf, total=14.0min\n",
      "[CV] gamma=0.5, C=1.0, kernel=rbf ....................................\n",
      "[CV] ..................... gamma=0.5, C=1.0, kernel=rbf, total=14.0min\n",
      "[CV] gamma=0.5, C=1.0, kernel=rbf ....................................\n",
      "[CV] ..................... gamma=0.5, C=1.0, kernel=rbf, total=14.0min\n",
      "[CV] gamma=1.0, C=1.0, kernel=rbf ....................................\n",
      "[CV] ..................... gamma=1.0, C=1.0, kernel=rbf, total=14.0min\n",
      "[CV] gamma=1.0, C=1.0, kernel=rbf ....................................\n",
      "[CV] ..................... gamma=1.0, C=1.0, kernel=rbf, total=14.0min\n",
      "[CV] gamma=1.0, C=1.0, kernel=rbf ....................................\n",
      "[CV] ..................... gamma=1.0, C=1.0, kernel=rbf, total=14.1min\n",
      "[CV] gamma=5.0, C=1.0, kernel=rbf ....................................\n",
      "[CV] ..................... gamma=5.0, C=1.0, kernel=rbf, total=14.2min\n",
      "[CV] gamma=5.0, C=1.0, kernel=rbf ....................................\n",
      "[CV] ..................... gamma=5.0, C=1.0, kernel=rbf, total=13.7min\n",
      "[CV] gamma=5.0, C=1.0, kernel=rbf ....................................\n",
      "[CV] ..................... gamma=5.0, C=1.0, kernel=rbf, total=13.7min\n",
      "[CV] gamma=0.001, C=5.0, kernel=rbf ..................................\n",
      "[CV] ................... gamma=0.001, C=5.0, kernel=rbf, total= 3.3min\n",
      "[CV] gamma=0.001, C=5.0, kernel=rbf ..................................\n",
      "[CV] ................... gamma=0.001, C=5.0, kernel=rbf, total= 3.3min\n",
      "[CV] gamma=0.001, C=5.0, kernel=rbf ..................................\n",
      "[CV] ................... gamma=0.001, C=5.0, kernel=rbf, total= 3.3min\n",
      "[CV] gamma=0.005, C=5.0, kernel=rbf ..................................\n",
      "[CV] ................... gamma=0.005, C=5.0, kernel=rbf, total= 2.4min\n",
      "[CV] gamma=0.005, C=5.0, kernel=rbf ..................................\n",
      "[CV] ................... gamma=0.005, C=5.0, kernel=rbf, total= 2.4min\n",
      "[CV] gamma=0.005, C=5.0, kernel=rbf ..................................\n",
      "[CV] ................... gamma=0.005, C=5.0, kernel=rbf, total= 2.4min\n",
      "[CV] gamma=0.01, C=5.0, kernel=rbf ...................................\n",
      "[CV] .................... gamma=0.01, C=5.0, kernel=rbf, total= 2.3min\n",
      "[CV] gamma=0.01, C=5.0, kernel=rbf ...................................\n",
      "[CV] .................... gamma=0.01, C=5.0, kernel=rbf, total= 2.3min\n",
      "[CV] gamma=0.01, C=5.0, kernel=rbf ...................................\n",
      "[CV] .................... gamma=0.01, C=5.0, kernel=rbf, total= 2.3min\n",
      "[CV] gamma=0.05, C=5.0, kernel=rbf ...................................\n",
      "[CV] .................... gamma=0.05, C=5.0, kernel=rbf, total= 4.0min\n",
      "[CV] gamma=0.05, C=5.0, kernel=rbf ...................................\n",
      "[CV] .................... gamma=0.05, C=5.0, kernel=rbf, total= 4.0min\n",
      "[CV] gamma=0.05, C=5.0, kernel=rbf ...................................\n",
      "[CV] .................... gamma=0.05, C=5.0, kernel=rbf, total= 4.0min\n",
      "[CV] gamma=0.1, C=5.0, kernel=rbf ....................................\n",
      "[CV] ..................... gamma=0.1, C=5.0, kernel=rbf, total= 8.3min\n",
      "[CV] gamma=0.1, C=5.0, kernel=rbf ....................................\n",
      "[CV] ..................... gamma=0.1, C=5.0, kernel=rbf, total= 8.3min\n",
      "[CV] gamma=0.1, C=5.0, kernel=rbf ....................................\n",
      "[CV] ..................... gamma=0.1, C=5.0, kernel=rbf, total= 8.3min\n",
      "[CV] gamma=0.5, C=5.0, kernel=rbf ....................................\n",
      "[CV] ..................... gamma=0.5, C=5.0, kernel=rbf, total=13.5min\n",
      "[CV] gamma=0.5, C=5.0, kernel=rbf ....................................\n",
      "[CV] ..................... gamma=0.5, C=5.0, kernel=rbf, total=13.5min\n",
      "[CV] gamma=0.5, C=5.0, kernel=rbf ....................................\n",
      "[CV] ..................... gamma=0.5, C=5.0, kernel=rbf, total=13.6min\n",
      "[CV] gamma=1.0, C=5.0, kernel=rbf ....................................\n",
      "[CV] ..................... gamma=1.0, C=5.0, kernel=rbf, total=13.9min\n",
      "[CV] gamma=1.0, C=5.0, kernel=rbf ....................................\n",
      "[CV] ..................... gamma=1.0, C=5.0, kernel=rbf, total=13.9min\n",
      "[CV] gamma=1.0, C=5.0, kernel=rbf ....................................\n",
      "[CV] ..................... gamma=1.0, C=5.0, kernel=rbf, total=14.0min\n",
      "[CV] gamma=5.0, C=5.0, kernel=rbf ....................................\n",
      "[CV] ..................... gamma=5.0, C=5.0, kernel=rbf, total=14.0min\n",
      "[CV] gamma=5.0, C=5.0, kernel=rbf ....................................\n",
      "[CV] ..................... gamma=5.0, C=5.0, kernel=rbf, total=13.9min\n",
      "[CV] gamma=5.0, C=5.0, kernel=rbf ....................................\n",
      "[CV] ..................... gamma=5.0, C=5.0, kernel=rbf, total=14.8min\n",
      "[CV] gamma=0.001, C=10.0, kernel=rbf .................................\n",
      "[CV] .................. gamma=0.001, C=10.0, kernel=rbf, total= 3.2min\n",
      "[CV] gamma=0.001, C=10.0, kernel=rbf .................................\n",
      "[CV] .................. gamma=0.001, C=10.0, kernel=rbf, total= 3.2min\n",
      "[CV] gamma=0.001, C=10.0, kernel=rbf .................................\n",
      "[CV] .................. gamma=0.001, C=10.0, kernel=rbf, total= 3.2min\n",
      "[CV] gamma=0.005, C=10.0, kernel=rbf .................................\n",
      "[CV] .................. gamma=0.005, C=10.0, kernel=rbf, total= 2.4min\n",
      "[CV] gamma=0.005, C=10.0, kernel=rbf .................................\n",
      "[CV] .................. gamma=0.005, C=10.0, kernel=rbf, total= 2.5min\n",
      "[CV] gamma=0.005, C=10.0, kernel=rbf .................................\n",
      "[CV] .................. gamma=0.005, C=10.0, kernel=rbf, total= 2.5min\n",
      "[CV] gamma=0.01, C=10.0, kernel=rbf ..................................\n",
      "[CV] ................... gamma=0.01, C=10.0, kernel=rbf, total= 2.5min\n",
      "[CV] gamma=0.01, C=10.0, kernel=rbf ..................................\n",
      "[CV] ................... gamma=0.01, C=10.0, kernel=rbf, total= 2.5min\n",
      "[CV] gamma=0.01, C=10.0, kernel=rbf ..................................\n",
      "[CV] ................... gamma=0.01, C=10.0, kernel=rbf, total= 2.5min\n",
      "[CV] gamma=0.05, C=10.0, kernel=rbf ..................................\n",
      "[CV] ................... gamma=0.05, C=10.0, kernel=rbf, total= 4.4min\n",
      "[CV] gamma=0.05, C=10.0, kernel=rbf ..................................\n",
      "[CV] ................... gamma=0.05, C=10.0, kernel=rbf, total= 4.4min\n",
      "[CV] gamma=0.05, C=10.0, kernel=rbf ..................................\n",
      "[CV] ................... gamma=0.05, C=10.0, kernel=rbf, total= 4.3min\n",
      "[CV] gamma=0.1, C=10.0, kernel=rbf ...................................\n",
      "[CV] .................... gamma=0.1, C=10.0, kernel=rbf, total= 9.0min\n",
      "[CV] gamma=0.1, C=10.0, kernel=rbf ...................................\n",
      "[CV] .................... gamma=0.1, C=10.0, kernel=rbf, total= 9.5min\n",
      "[CV] gamma=0.1, C=10.0, kernel=rbf ...................................\n",
      "[CV] .................... gamma=0.1, C=10.0, kernel=rbf, total= 9.2min\n",
      "[CV] gamma=0.5, C=10.0, kernel=rbf ...................................\n",
      "[CV] .................... gamma=0.5, C=10.0, kernel=rbf, total=13.8min\n",
      "[CV] gamma=0.5, C=10.0, kernel=rbf ...................................\n",
      "[CV] .................... gamma=0.5, C=10.0, kernel=rbf, total=13.7min\n",
      "[CV] gamma=0.5, C=10.0, kernel=rbf ...................................\n",
      "[CV] .................... gamma=0.5, C=10.0, kernel=rbf, total=13.6min\n",
      "[CV] gamma=1.0, C=10.0, kernel=rbf ...................................\n",
      "[CV] .................... gamma=1.0, C=10.0, kernel=rbf, total=13.7min\n",
      "[CV] gamma=1.0, C=10.0, kernel=rbf ...................................\n",
      "[CV] .................... gamma=1.0, C=10.0, kernel=rbf, total=13.6min\n",
      "[CV] gamma=1.0, C=10.0, kernel=rbf ...................................\n",
      "[CV] .................... gamma=1.0, C=10.0, kernel=rbf, total=13.6min\n",
      "[CV] gamma=5.0, C=10.0, kernel=rbf ...................................\n"
     ]
    },
    {
     "name": "stdout",
     "output_type": "stream",
     "text": [
      "[CV] .................... gamma=5.0, C=10.0, kernel=rbf, total=13.6min\n",
      "[CV] gamma=5.0, C=10.0, kernel=rbf ...................................\n",
      "[CV] .................... gamma=5.0, C=10.0, kernel=rbf, total=13.8min\n",
      "[CV] gamma=5.0, C=10.0, kernel=rbf ...................................\n",
      "[CV] .................... gamma=5.0, C=10.0, kernel=rbf, total=13.8min\n",
      "[CV] gamma=0.001, C=50.0, kernel=rbf .................................\n",
      "[CV] .................. gamma=0.001, C=50.0, kernel=rbf, total= 2.6min\n",
      "[CV] gamma=0.001, C=50.0, kernel=rbf .................................\n",
      "[CV] .................. gamma=0.001, C=50.0, kernel=rbf, total= 2.6min\n",
      "[CV] gamma=0.001, C=50.0, kernel=rbf .................................\n",
      "[CV] .................. gamma=0.001, C=50.0, kernel=rbf, total= 2.6min\n",
      "[CV] gamma=0.005, C=50.0, kernel=rbf .................................\n",
      "[CV] .................. gamma=0.005, C=50.0, kernel=rbf, total= 2.4min\n",
      "[CV] gamma=0.005, C=50.0, kernel=rbf .................................\n",
      "[CV] .................. gamma=0.005, C=50.0, kernel=rbf, total= 2.4min\n",
      "[CV] gamma=0.005, C=50.0, kernel=rbf .................................\n",
      "[CV] .................. gamma=0.005, C=50.0, kernel=rbf, total= 2.4min\n",
      "[CV] gamma=0.01, C=50.0, kernel=rbf ..................................\n",
      "[CV] ................... gamma=0.01, C=50.0, kernel=rbf, total= 2.5min\n",
      "[CV] gamma=0.01, C=50.0, kernel=rbf ..................................\n",
      "[CV] ................... gamma=0.01, C=50.0, kernel=rbf, total= 2.5min\n",
      "[CV] gamma=0.01, C=50.0, kernel=rbf ..................................\n",
      "[CV] ................... gamma=0.01, C=50.0, kernel=rbf, total= 2.6min\n",
      "[CV] gamma=0.05, C=50.0, kernel=rbf ..................................\n",
      "[CV] ................... gamma=0.05, C=50.0, kernel=rbf, total= 4.0min\n",
      "[CV] gamma=0.05, C=50.0, kernel=rbf ..................................\n",
      "[CV] ................... gamma=0.05, C=50.0, kernel=rbf, total= 4.1min\n",
      "[CV] gamma=0.05, C=50.0, kernel=rbf ..................................\n",
      "[CV] ................... gamma=0.05, C=50.0, kernel=rbf, total= 4.1min\n",
      "[CV] gamma=0.1, C=50.0, kernel=rbf ...................................\n",
      "[CV] .................... gamma=0.1, C=50.0, kernel=rbf, total= 8.4min\n",
      "[CV] gamma=0.1, C=50.0, kernel=rbf ...................................\n",
      "[CV] .................... gamma=0.1, C=50.0, kernel=rbf, total= 8.4min\n",
      "[CV] gamma=0.1, C=50.0, kernel=rbf ...................................\n",
      "[CV] .................... gamma=0.1, C=50.0, kernel=rbf, total= 8.4min\n",
      "[CV] gamma=0.5, C=50.0, kernel=rbf ...................................\n",
      "[CV] .................... gamma=0.5, C=50.0, kernel=rbf, total=13.7min\n",
      "[CV] gamma=0.5, C=50.0, kernel=rbf ...................................\n",
      "[CV] .................... gamma=0.5, C=50.0, kernel=rbf, total=13.7min\n",
      "[CV] gamma=0.5, C=50.0, kernel=rbf ...................................\n",
      "[CV] .................... gamma=0.5, C=50.0, kernel=rbf, total=13.7min\n",
      "[CV] gamma=1.0, C=50.0, kernel=rbf ...................................\n",
      "[CV] .................... gamma=1.0, C=50.0, kernel=rbf, total=13.8min\n",
      "[CV] gamma=1.0, C=50.0, kernel=rbf ...................................\n",
      "[CV] .................... gamma=1.0, C=50.0, kernel=rbf, total=13.8min\n",
      "[CV] gamma=1.0, C=50.0, kernel=rbf ...................................\n",
      "[CV] .................... gamma=1.0, C=50.0, kernel=rbf, total=13.8min\n",
      "[CV] gamma=5.0, C=50.0, kernel=rbf ...................................\n",
      "[CV] .................... gamma=5.0, C=50.0, kernel=rbf, total=13.8min\n",
      "[CV] gamma=5.0, C=50.0, kernel=rbf ...................................\n",
      "[CV] .................... gamma=5.0, C=50.0, kernel=rbf, total=13.8min\n",
      "[CV] gamma=5.0, C=50.0, kernel=rbf ...................................\n",
      "[CV] .................... gamma=5.0, C=50.0, kernel=rbf, total=13.8min\n"
     ]
    },
    {
     "name": "stderr",
     "output_type": "stream",
     "text": [
      "[Parallel(n_jobs=1)]: Done 144 out of 144 | elapsed: 1677.2min finished\n"
     ]
    },
    {
     "name": "stdout",
     "output_type": "stream",
     "text": [
      "Elapsed time, param searching 1 day, 4:02:38.595454\n"
     ]
    },
    {
     "ename": "NameError",
     "evalue": "name 'MidpointNormalize' is not defined",
     "output_type": "error",
     "traceback": [
      "\u001b[0;31m---------------------------------------------------------------------------\u001b[0m",
      "\u001b[0;31mNameError\u001b[0m                                 Traceback (most recent call last)",
      "\u001b[0;32m<ipython-input-24-030f2b5e7fd7>\u001b[0m in \u001b[0;36m<module>\u001b[0;34m()\u001b[0m\n\u001b[1;32m     21\u001b[0m                                                      len(gamma_range))\n\u001b[1;32m     22\u001b[0m \u001b[0;34m\u001b[0m\u001b[0m\n\u001b[0;32m---> 23\u001b[0;31m \u001b[0mplot_param_space_scores\u001b[0m\u001b[0;34m(\u001b[0m\u001b[0mscores\u001b[0m\u001b[0;34m,\u001b[0m \u001b[0mC_range\u001b[0m\u001b[0;34m,\u001b[0m \u001b[0mgamma_range\u001b[0m\u001b[0;34m)\u001b[0m\u001b[0;34m\u001b[0m\u001b[0m\n\u001b[0m\u001b[1;32m     24\u001b[0m \u001b[0;34m\u001b[0m\u001b[0m\n\u001b[1;32m     25\u001b[0m \u001b[0;34m\u001b[0m\u001b[0m\n",
      "\u001b[0;32m<ipython-input-23-452f45c2d454>\u001b[0m in \u001b[0;36mplot_param_space_scores\u001b[0;34m(scores, C_range, gamma_range)\u001b[0m\n\u001b[1;32m     21\u001b[0m     \u001b[0mplt\u001b[0m\u001b[0;34m.\u001b[0m\u001b[0msubplots_adjust\u001b[0m\u001b[0;34m(\u001b[0m\u001b[0mleft\u001b[0m\u001b[0;34m=\u001b[0m\u001b[0;36m.2\u001b[0m\u001b[0;34m,\u001b[0m \u001b[0mright\u001b[0m\u001b[0;34m=\u001b[0m\u001b[0;36m0.95\u001b[0m\u001b[0;34m,\u001b[0m \u001b[0mbottom\u001b[0m\u001b[0;34m=\u001b[0m\u001b[0;36m0.15\u001b[0m\u001b[0;34m,\u001b[0m \u001b[0mtop\u001b[0m\u001b[0;34m=\u001b[0m\u001b[0;36m0.95\u001b[0m\u001b[0;34m)\u001b[0m\u001b[0;34m\u001b[0m\u001b[0m\n\u001b[1;32m     22\u001b[0m     plt.imshow(scores, interpolation='nearest', cmap=plt.cm.jet,\n\u001b[0;32m---> 23\u001b[0;31m                norm=MidpointNormalize(vmin=0.5, midpoint=0.9))\n\u001b[0m\u001b[1;32m     24\u001b[0m     \u001b[0mplt\u001b[0m\u001b[0;34m.\u001b[0m\u001b[0mxlabel\u001b[0m\u001b[0;34m(\u001b[0m\u001b[0;34m'gamma'\u001b[0m\u001b[0;34m)\u001b[0m\u001b[0;34m\u001b[0m\u001b[0m\n\u001b[1;32m     25\u001b[0m     \u001b[0mplt\u001b[0m\u001b[0;34m.\u001b[0m\u001b[0mylabel\u001b[0m\u001b[0;34m(\u001b[0m\u001b[0;34m'C'\u001b[0m\u001b[0;34m)\u001b[0m\u001b[0;34m\u001b[0m\u001b[0m\n",
      "\u001b[0;31mNameError\u001b[0m: name 'MidpointNormalize' is not defined"
     ]
    },
    {
     "data": {
      "text/plain": [
       "<matplotlib.figure.Figure at 0x7fe0878d9748>"
      ]
     },
     "metadata": {},
     "output_type": "display_data"
    }
   ],
   "source": [
    "\n",
    "svm_clsf = svm.SVC()\n",
    "grid_clsf = GridSearchCV(estimator=svm_clsf,param_grid=parameters,n_jobs=1, verbose=2)\n",
    "\n",
    "\n",
    "start_time = dt.datetime.now()\n",
    "print('Start param searching at {}'.format(str(start_time)))\n",
    "\n",
    "grid_clsf.fit(X_train, y_train)\n",
    "\n",
    "elapsed_time= dt.datetime.now() - start_time\n",
    "print('Elapsed time, param searching {}'.format(str(elapsed_time)))\n",
    "sorted(grid_clsf.cv_results_.keys())\n",
    "\n",
    "classifier = grid_clsf.best_estimator_\n",
    "params = grid_clsf.best_params_\n",
    "\n",
    "\n",
    "\n",
    "scores = grid_clsf.cv_results_['mean_test_score'].reshape(len(C_range),\n",
    "                                                     len(gamma_range))\n",
    "\n",
    "plot_param_space_scores(scores, C_range, gamma_range)\n",
    "\n",
    "\n",
    "######################### end grid section #############"
   ]
  },
  {
   "cell_type": "code",
   "execution_count": 28,
   "metadata": {},
   "outputs": [
    {
     "data": {
      "image/png": "[encoded data removed]",
      "text/plain": [
       "<matplotlib.figure.Figure at 0x7fe0878f1128>"
      ]
     },
     "metadata": {},
     "output_type": "display_data"
    }
   ],
   "source": [
    "\n",
    "plot_param_space_scores(scores, C_range, gamma_range)"
   ]
  },
  {
   "cell_type": "code",
   "execution_count": 14,
   "metadata": {},
   "outputs": [
    {
     "name": "stdout",
     "output_type": "stream",
     "text": [
      "Start learning at 2018-03-09 00:56:52.907149\n",
      "Stop learning 2018-03-09 01:04:23.296147\n",
      "Elapsed learning 0:07:30.388998\n"
     ]
    }
   ],
   "source": [
    "################ Classifier with good params ###########\n",
    "# Create a classifier: a support vector classifier\n",
    "from sklearn import datasets, svm, metrics\n",
    "param_C = 5\n",
    "param_gamma = 0.05\n",
    "classifier = svm.SVC(C=param_C,gamma=param_gamma)\n",
    "\n",
    "# We learn the digits on train part\n",
    "start_time = dt.datetime.now()\n",
    "print('Start learning at {}'.format(str(start_time)))\n",
    "classifier.fit(X_train, y_train)\n",
    "end_time = dt.datetime.now() \n",
    "print('Stop learning {}'.format(str(end_time)))\n",
    "elapsed_time= end_time - start_time\n",
    "print('Elapsed learning {}'.format(str(elapsed_time)))\n",
    "\n",
    "########################################################"
   ]
  },
  {
   "cell_type": "code",
   "execution_count": 20,
   "metadata": {},
   "outputs": [],
   "source": [
    "predict_y = classifier.predict(X_test)"
   ]
  },
  {
   "cell_type": "code",
   "execution_count": 19,
   "metadata": {},
   "outputs": [
    {
     "name": "stdout",
     "output_type": "stream",
     "text": [
      "MSE: 1.062\n",
      "F1 Score: 0.939\n"
     ]
    }
   ],
   "source": [
    "mse_test = metrics.mean_squared_error(y_test, predict_y)\n",
    "f1_test = metrics.f1_score(y_test, predict_y,average='macro')\n",
    "print('MSE: %0.3f' %mse_test)\n",
    "print('F1 Score: %0.3f' %f1_test)"
   ]
  },
  {
   "cell_type": "markdown",
   "metadata": {},
   "source": [
    "## Q2 Feed Forward NN with BP"
   ]
  },
  {
   "cell_type": "code",
   "execution_count": 23,
   "metadata": {},
   "outputs": [],
   "source": [
    "# the progress meter widget\n",
    "from tqdm import tqdm\n",
    "import numpy \n",
    "import math\n",
    "import scipy.special\n",
    "\n",
    "# define the Feed Forward NN:\n",
    "class NeuralNetwork:\n",
    "    # initialization\n",
    "    # dims -> dimenison of the neural network architecture: [64*64 100 10] This is one hidden layer with 100 HU.\n",
    "    # alpha -> learning rate\n",
    "    # decay -> l1 weight decay\n",
    "    # activation_func -> activation function //!!! maybe better to use LeRU for each layer ****TODO******\n",
    "    # activation_func_prime -> differential activation function\n",
    "    def __init__(self, dims, alpha, decay, activation_func, activation_func_prime):\n",
    "        self.layers = [] # contain all layers of neurons.\n",
    "        # hidden layer:\n",
    "        for i in range(1, len(dims)):\n",
    "            # hidden layer weight list for each hidden layer\n",
    "            hiddenlayer_weights = []\n",
    "            # for each layer, and each neuron, they contains the last layer's weight combination\n",
    "            # the number of weight that the current neuron pocessessed is equal to the last layer's number:\n",
    "            for j in range(dims[i]):\n",
    "                # unifying the weight distribution between [-1,1]\n",
    "                hiddenlayer_weights.append(numpy.random.uniform(-1, 1, dims[i - 1]))\n",
    "            hiddenlayer_weights = numpy.array(hiddenlayer_weights)\n",
    "        self.layers.append((hiddenlayer_weights))\n",
    "        self.alpha = alpha\n",
    "        self.weight_decay = decay\n",
    "        self.f = activation_func\n",
    "        self.f_prime = activation_func_prime\n",
    "        \n",
    "    # feed forward\n",
    "    def feedForward(self, inputs):\n",
    "        # loop through the layers and produce the output from the production of last layer\n",
    "        # inputs and the current neurons' weight lists\n",
    "        layer_outputs = []\n",
    "        # loop layers of weights:\n",
    "        for i in range(len(self.layers)):\n",
    "            if i == 0:\n",
    "                # first layer should be the input layer\n",
    "                current_output = self.f(numpy.dot(self.layers[i], inputs))\n",
    "            else:\n",
    "                # other layer's input should be the last layer's output\n",
    "                current_output = self.f(numpy.dot(self.layers[i], layer_outputs[i-1]))\n",
    "            current_output = numpy.array(current_output)\n",
    "            layer_outputs.append(current_output)\n",
    "        return layer_outputs\n",
    "        \n",
    "    # back propogation\n",
    "    def backPropagation(self, inputs, targets):\n",
    "        # implement the BP:\n",
    "        # for each layer we adjust the weight list according to the error function\n",
    "        # conversion of inputs and target arrays to transposed numpy matrixes\n",
    "        inputs = numpy.transpose(numpy.array([numpy.array(inputs)]))\n",
    "        targets = numpy.transpose(numpy.array([numpy.array(targets)]))\n",
    "        # outputs of each layer, we need all the layer's data to perform BP\n",
    "        outputs = self.feedForward(inputs)\n",
    "        # get error from the last layer output and target\n",
    "        outErr = targets - outputs[len(outputs) - 1]\n",
    "        # initialize hidden layer errors for each HU\n",
    "        HiddenErrs = [None] * (len(outputs) - 1)\n",
    "        # loop backward to update the previous layer's error\n",
    "        for i in reversed(range(len(outputs) - 1)):\n",
    "            HiddenErr = 0\n",
    "            if i == len(outputs) - 2:\n",
    "                # from the output error\n",
    "                hiddenErr = numpy.dot(numpy.transpose(self.layers[i + 1]), outErr)\n",
    "            else:\n",
    "                # from 'back' layer\n",
    "                hiddenErr = numpy.dot(numpy.transpose(self.layers[i + 1]), hiddenErrs[i + 1])\n",
    "            HiddenErrs[i] = hiddenErr\n",
    "        # update the weights using l1 weight decay\n",
    "        for i in reversed(range(len(self.layers))):\n",
    "            if i == len(self.layers) - 1:\n",
    "                self.layers[i] += (self.alpha * numpy.dot((outErr * self.f_prime(outputs[i])), numpy.transpose(outputs[i - 1]))) + (self.alpha * self.weight_decay * self.layers[i])\n",
    "            elif i == 0:\n",
    "                self.layers[i] += (self.alpha * numpy.dot((HiddenErrs[i] * self.f_prime(outputs[i])), numpy.transpose(inputs))) + (self.alpha * self.weight_decay * self.layers[i])\n",
    "            else:\n",
    "                self.layers[i] += (self.alpha * numpy.dot((HiddenErrs[i] * self.f_prime(outputs[i])), numpy.transpose(outputs[i - 1]))) + (self.alpha * self.weight_decay * self.layers[i])\n",
    "\n",
    "    # train\n",
    "    def train(self, inputs, targets):\n",
    "        self.backPropagation(inputs, targets)\n",
    "        \n",
    "    def query(self, inputs):\n",
    "        inputs = numpy.transpose(numpy.array([numpy.array(inputs)]))\n",
    "        return self.feedForward(inputs)[-1]"
   ]
  },
  {
   "cell_type": "code",
   "execution_count": 27,
   "metadata": {},
   "outputs": [
    {
     "name": "stderr",
     "output_type": "stream",
     "text": [
      "100%|██████████| 100000/100000 [00:10<00:00, 9198.86it/s]"
     ]
    },
    {
     "name": "stdout",
     "output_type": "stream",
     "text": [
      "[[0.]]\n",
      "[[0.]]\n",
      "[[0.]]\n",
      "[[0.5]]\n"
     ]
    },
    {
     "name": "stderr",
     "output_type": "stream",
     "text": [
      "\n"
     ]
    }
   ],
   "source": [
    "# test of the neural network\n",
    "nn = NeuralNetwork([2, 2, 1], 0.01, 0.001, lambda x: scipy.special.expit(x), lambda x: x * (1 - x))\n",
    "for i in tqdm(range(100000)):\n",
    "    nn.train([0, 0], [0])\n",
    "    nn.train([0, 1], [0])\n",
    "    nn.train([1, 1], [1])\n",
    "    nn.train([1, 0], [0])\n",
    "    nn.train([1, 1], [1])\n",
    "\n",
    "print(nn.query([0, 1]))\n",
    "print(nn.query([1, 1]))\n",
    "print(nn.query([1, 0]))\n",
    "print(nn.query([0, 0]))\n"
   ]
  },
  {
   "cell_type": "code",
   "execution_count": null,
   "metadata": {},
   "outputs": [],
   "source": []
  }
 ],
 "metadata": {
  "kernelspec": {
   "display_name": "Python 3",
   "language": "python",
   "name": "python3"
  },
  "language_info": {
   "codemirror_mode": {
    "name": "ipython",
    "version": 3
   },
   "file_extension": ".py",
   "mimetype": "text/x-python",
   "name": "python",
   "nbconvert_exporter": "python",
   "pygments_lexer": "ipython3",
   "version": "3.5.2"
  }
 },
 "nbformat": 4,
 "nbformat_minor": 1
}
