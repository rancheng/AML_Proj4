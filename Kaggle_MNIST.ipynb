{
 "cells": [
  {
   "cell_type": "markdown",
   "metadata": {
    "collapsed": true
   },
   "source": [
    "# COMP 551 Project 4 Kaggle MNIST\n",
    "\n",
    "### Ran Cheng, 260768706   |   XXXX, XXXXXXX    |    XXXX, XXXXXXX"
   ]
  },
  {
   "cell_type": "markdown",
   "metadata": {},
   "source": [
    "### Read Image"
   ]
  },
  {
   "cell_type": "code",
   "execution_count": 1,
   "metadata": {},
   "outputs": [],
   "source": [
    "%matplotlib inline\n",
    "# import data\n",
    "import numpy   as np \n",
    "import scipy.misc # to visualize only  \n",
    "x = np.loadtxt(\"./Data/train_x.csv\", delimiter=\",\") # load from text \n",
    "y = np.loadtxt(\"./Data/train_y.csv\", delimiter=\",\") \n",
    "x = x.reshape(-1, 64, 64) # reshape \n",
    "y = y.reshape(-1, 1) "
   ]
  },
  {
   "cell_type": "markdown",
   "metadata": {},
   "source": [
    "### Preprocess Image"
   ]
  },
  {
   "cell_type": "code",
   "execution_count": 3,
   "metadata": {},
   "outputs": [
    {
     "name": "stdout",
     "output_type": "stream",
     "text": [
      "y[4]:  [8.]\n"
     ]
    },
    {
     "data": {
      "image/png": "[encoded data removed]",
      "text/plain": [
       "<matplotlib.figure.Figure at 0x7fdc2c458550>"
      ]
     },
     "metadata": {},
     "output_type": "display_data"
    }
   ],
   "source": [
    "import matplotlib.pyplot as plt\n",
    "plt.imshow(x[4])\n",
    "print(\"y[4]: \", y[4])"
   ]
  },
  {
   "cell_type": "markdown",
   "metadata": {},
   "source": [
    "### Filter out the background"
   ]
  },
  {
   "cell_type": "code",
   "execution_count": 31,
   "metadata": {},
   "outputs": [
    {
     "data": {
      "text/plain": [
       "<matplotlib.image.AxesImage at 0x7fdbf7fe4668>"
      ]
     },
     "execution_count": 31,
     "metadata": {},
     "output_type": "execute_result"
    },
    {
     "data": {
      "image/png": "[encoded data removed]",
      "text/plain": [
       "<matplotlib.figure.Figure at 0x7fdbf7fdbf60>"
      ]
     },
     "metadata": {},
     "output_type": "display_data"
    }
   ],
   "source": [
    "inputImg = x[500]\n",
    "inputImg[inputImg < 255] = 0\n",
    "inputImg[inputImg > 0] = 1\n",
    "plt.imshow(inputImg)"
   ]
  },
  {
   "cell_type": "code",
   "execution_count": 35,
   "metadata": {},
   "outputs": [
    {
     "data": {
      "text/plain": [
       "(64, 64)"
      ]
     },
     "execution_count": 35,
     "metadata": {},
     "output_type": "execute_result"
    }
   ],
   "source": [
    "inputImg.shape"
   ]
  },
  {
   "cell_type": "code",
   "execution_count": 34,
   "metadata": {},
   "outputs": [
    {
     "ename": "error",
     "evalue": "/io/opencv/modules/imgproc/src/contours.cpp:199: error: (-210) [Start]FindContours supports only CV_8UC1 images when mode != CV_RETR_FLOODFILL otherwise supports CV_32SC1 images only in function cvStartFindContours_Impl\n",
     "output_type": "error",
     "traceback": [
      "\u001b[0;31m---------------------------------------------------------------------------\u001b[0m",
      "\u001b[0;31merror\u001b[0m                                     Traceback (most recent call last)",
      "\u001b[0;32m<ipython-input-34-d1c3a7890bdd>\u001b[0m in \u001b[0;36m<module>\u001b[0;34m()\u001b[0m\n\u001b[1;32m      4\u001b[0m \u001b[0;31m# ret,thresh = cv2.threshold(x[4],254,255,0)\u001b[0m\u001b[0;34m\u001b[0m\u001b[0;34m\u001b[0m\u001b[0m\n\u001b[1;32m      5\u001b[0m \u001b[0;31m# im_bw = cv2.cvtColor(inputImg, cv2.COLOR_BGR2GRAY)\u001b[0m\u001b[0;34m\u001b[0m\u001b[0;34m\u001b[0m\u001b[0m\n\u001b[0;32m----> 6\u001b[0;31m \u001b[0mcontours\u001b[0m\u001b[0;34m,\u001b[0m\u001b[0mhierarchy\u001b[0m \u001b[0;34m=\u001b[0m \u001b[0mcv2\u001b[0m\u001b[0;34m.\u001b[0m\u001b[0mfindContours\u001b[0m\u001b[0;34m(\u001b[0m\u001b[0minputImg\u001b[0m\u001b[0;34m,\u001b[0m \u001b[0mcv2\u001b[0m\u001b[0;34m.\u001b[0m\u001b[0mRETR_EXTERNAL\u001b[0m\u001b[0;34m,\u001b[0m \u001b[0mcv2\u001b[0m\u001b[0;34m.\u001b[0m\u001b[0mCHAIN_APPROX_SIMPLE\u001b[0m\u001b[0;34m)\u001b[0m\u001b[0;34m\u001b[0m\u001b[0m\n\u001b[0m\u001b[1;32m      7\u001b[0m \u001b[0;34m\u001b[0m\u001b[0m\n\u001b[1;32m      8\u001b[0m \u001b[0mcnt\u001b[0m \u001b[0;34m=\u001b[0m \u001b[0mcontours\u001b[0m\u001b[0;34m[\u001b[0m\u001b[0;36m0\u001b[0m\u001b[0;34m]\u001b[0m\u001b[0;34m\u001b[0m\u001b[0m\n",
      "\u001b[0;31merror\u001b[0m: /io/opencv/modules/imgproc/src/contours.cpp:199: error: (-210) [Start]FindContours supports only CV_8UC1 images when mode != CV_RETR_FLOODFILL otherwise supports CV_32SC1 images only in function cvStartFindContours_Impl\n"
     ]
    }
   ],
   "source": [
    "import cv2\n",
    "import numpy as np\n",
    "\n",
    "# ret,thresh = cv2.threshold(x[4],254,255,0)\n",
    "# im_bw = cv2.cvtColor(inputImg, cv2.COLOR_BGR2GRAY)\n",
    "contours,hierarchy = cv2.findContours(inputImg, cv2.RETR_EXTERNAL, cv2.CHAIN_APPROX_SIMPLE)\n",
    "\n",
    "cnt = contours[0]\n",
    "M = cv2.moments(cnt)\n",
    "plt.imshow(M)"
   ]
  },
  {
   "cell_type": "code",
   "execution_count": 44,
   "metadata": {},
   "outputs": [
    {
     "data": {
      "text/plain": [
       "[]"
      ]
     },
     "execution_count": 44,
     "metadata": {},
     "output_type": "execute_result"
    },
    {
     "data": {
      "image/png": "[encoded data removed]",
      "text/plain": [
       "<matplotlib.figure.Figure at 0x7fdbf7fa5cc0>"
      ]
     },
     "metadata": {},
     "output_type": "display_data"
    }
   ],
   "source": [
    "import numpy as np\n",
    "import matplotlib.pyplot as plt\n",
    "\n",
    "from skimage import measure\n",
    "\n",
    "\n",
    "# Find contours at a constant value of 0.8\n",
    "contours = measure.find_contours(inputImg, 0.8)\n",
    "\n",
    "# Display the image and plot all contours found\n",
    "fig, ax = plt.subplots()\n",
    "ax.imshow(inputImg, interpolation='nearest', cmap=plt.cm.gray)\n",
    "\n",
    "for n, contour in enumerate(contours):\n",
    "    ax.plot(contour[:, 1], contour[:, 0], linewidth=2)\n",
    "\n",
    "ax.axis('image')\n",
    "ax.set_xticks([])\n",
    "ax.set_yticks([])"
   ]
  },
  {
   "cell_type": "code",
   "execution_count": 62,
   "metadata": {},
   "outputs": [
    {
     "name": "stdout",
     "output_type": "stream",
     "text": [
      "contour[ 0] x_diff: 22.40 y_diff: 22.40\n",
      "contour[ 1] x_diff: 19.40 y_diff: 19.40\n",
      "contour[ 2] x_diff: 9.60 y_diff: 8.60\n",
      "contour[ 3] x_diff: 10.40 y_diff: 15.40\n"
     ]
    }
   ],
   "source": [
    "i = 0\n",
    "max_diff = -100\n",
    "max_contor = None\n",
    "max_x_diff = 0\n",
    "max_y_diff = 0\n",
    "for contor in contours:\n",
    "    x_diff = max(contor[:,1]) - min(contor[:,1])\n",
    "    y_diff = max(contor[:,0]) - min(contor[:,0])\n",
    "    print('contour[ %d]'%i,  'x_diff: %0.2f' % x_diff, 'y_diff: %0.2f' % y_diff)\n",
    "    current_diff = max(x_diff, y_diff)\n",
    "    if current_diff > max_diff:\n",
    "        max_contor = contours[i]\n",
    "        max_diff = current_diff\n",
    "        max_x_diff = x_diff\n",
    "        max_y_diff = y_diff\n",
    "    i += 1"
   ]
  },
  {
   "cell_type": "code",
   "execution_count": 66,
   "metadata": {},
   "outputs": [
    {
     "ename": "AttributeError",
     "evalue": "'Figure' object has no attribute 'add_patch'",
     "output_type": "error",
     "traceback": [
      "\u001b[0;31m---------------------------------------------------------------------------\u001b[0m",
      "\u001b[0;31mAttributeError\u001b[0m                            Traceback (most recent call last)",
      "\u001b[0;32m<ipython-input-66-d67c8f193df9>\u001b[0m in \u001b[0;36m<module>\u001b[0;34m()\u001b[0m\n\u001b[1;32m      6\u001b[0m \u001b[0mbox_y_e\u001b[0m \u001b[0;34m=\u001b[0m \u001b[0mmax\u001b[0m\u001b[0;34m(\u001b[0m\u001b[0mmax_contor\u001b[0m\u001b[0;34m[\u001b[0m\u001b[0;34m:\u001b[0m\u001b[0;34m,\u001b[0m\u001b[0;36m0\u001b[0m\u001b[0;34m]\u001b[0m\u001b[0;34m)\u001b[0m\u001b[0;34m\u001b[0m\u001b[0m\n\u001b[1;32m      7\u001b[0m \u001b[0mrect\u001b[0m \u001b[0;34m=\u001b[0m \u001b[0mpatches\u001b[0m\u001b[0;34m.\u001b[0m\u001b[0mRectangle\u001b[0m\u001b[0;34m(\u001b[0m\u001b[0;34m(\u001b[0m\u001b[0mbox_x_s\u001b[0m\u001b[0;34m,\u001b[0m\u001b[0mbox_y_s\u001b[0m\u001b[0;34m)\u001b[0m\u001b[0;34m,\u001b[0m\u001b[0mmax_x_diff\u001b[0m\u001b[0;34m,\u001b[0m\u001b[0mmax_y_diff\u001b[0m\u001b[0;34m,\u001b[0m\u001b[0mlinewidth\u001b[0m\u001b[0;34m=\u001b[0m\u001b[0;36m1\u001b[0m\u001b[0;34m,\u001b[0m\u001b[0medgecolor\u001b[0m\u001b[0;34m=\u001b[0m\u001b[0;34m'r'\u001b[0m\u001b[0;34m,\u001b[0m\u001b[0mfacecolor\u001b[0m\u001b[0;34m=\u001b[0m\u001b[0;34m'none'\u001b[0m\u001b[0;34m)\u001b[0m\u001b[0;34m\u001b[0m\u001b[0m\n\u001b[0;32m----> 8\u001b[0;31m \u001b[0mplt\u001b[0m\u001b[0;34m.\u001b[0m\u001b[0mfigure\u001b[0m\u001b[0;34m(\u001b[0m\u001b[0;34m)\u001b[0m\u001b[0;34m.\u001b[0m\u001b[0madd_patch\u001b[0m\u001b[0;34m(\u001b[0m\u001b[0mrect\u001b[0m\u001b[0;34m)\u001b[0m\u001b[0;34m\u001b[0m\u001b[0m\n\u001b[0m",
      "\u001b[0;31mAttributeError\u001b[0m: 'Figure' object has no attribute 'add_patch'"
     ]
    },
    {
     "data": {
      "image/png": "[encoded data removed]",
      "text/plain": [
       "<matplotlib.figure.Figure at 0x7fdbf76b2438>"
      ]
     },
     "metadata": {},
     "output_type": "display_data"
    },
    {
     "data": {
      "text/plain": [
       "<matplotlib.figure.Figure at 0x7fdbf76bada0>"
      ]
     },
     "metadata": {},
     "output_type": "display_data"
    }
   ],
   "source": [
    "import matplotlib.patches as patches\n",
    "plt.imshow(inputImg, interpolation='nearest', cmap=plt.cm.gray)\n",
    "box_x_s = min(max_contor[:,1])\n",
    "box_x_e = max(max_contor[:,1])\n",
    "box_y_s = min(max_contor[:,0])\n",
    "box_y_e = max(max_contor[:,0])\n",
    "rect = patches.Rectangle((box_x_s,box_y_s),max_x_diff,max_y_diff,linewidth=1,edgecolor='r',facecolor='none')\n",
    "plt.figure().add_patch(rect)"
   ]
  },
  {
   "cell_type": "code",
   "execution_count": 21,
   "metadata": {},
   "outputs": [
    {
     "data": {
      "text/plain": [
       "<matplotlib.image.AxesImage at 0x7fdbfeb73c88>"
      ]
     },
     "execution_count": 21,
     "metadata": {},
     "output_type": "execute_result"
    },
    {
     "data": {
      "image/png": "[encoded data removed]",
      "text/plain": [
       "<matplotlib.figure.Figure at 0x7fdbfebccda0>"
      ]
     },
     "metadata": {},
     "output_type": "display_data"
    }
   ],
   "source": [
    "from skimage import data, color\n",
    "from skimage.transform import rescale, resize, downscale_local_mean\n",
    "\n",
    "image_rescaled = rescale(inputImg, 1.0 / 2.0, mode='wrap')\n",
    "plt.imshow(image_rescaled)"
   ]
  },
  {
   "cell_type": "code",
   "execution_count": 3,
   "metadata": {},
   "outputs": [],
   "source": [
    "#split data to train and test\n",
    "#from sklearn.cross_validation import train_test_split\n",
    "from sklearn.model_selection import train_test_split\n",
    "X_train, X_test, y_train, y_test = train_test_split(x/255, y, test_size=0.15, random_state=42)\n",
    "y_train = np.ravel(y_train)\n",
    "y_test = np.ravel(y_test)"
   ]
  },
  {
   "cell_type": "code",
   "execution_count": 4,
   "metadata": {},
   "outputs": [
    {
     "data": {
      "text/plain": [
       "array([[0.        , 0.00784314, 0.05490196, ..., 0.22745098, 0.25098039,\n",
       "        0.28235294],\n",
       "       [0.        , 0.00784314, 0.05882353, ..., 0.22745098, 0.25098039,\n",
       "        0.28235294],\n",
       "       [0.        , 0.01568627, 0.05882353, ..., 0.22745098, 0.25490196,\n",
       "        0.28235294],\n",
       "       ...,\n",
       "       [0.6745098 , 0.69411765, 0.69411765, ..., 0.03529412, 0.05098039,\n",
       "        0.07843137],\n",
       "       [0.6745098 , 0.69411765, 0.69803922, ..., 0.02745098, 0.05098039,\n",
       "        0.0627451 ],\n",
       "       [0.66666667, 0.68235294, 0.69803922, ..., 0.00784314, 0.03529412,\n",
       "        0.07058824]])"
      ]
     },
     "execution_count": 4,
     "metadata": {},
     "output_type": "execute_result"
    }
   ],
   "source": [
    "# normalize all the pixel values to [0,1]\n",
    "X_train[0]"
   ]
  },
  {
   "cell_type": "markdown",
   "metadata": {},
   "source": [
    "### 1. Start With Baseline, Linear SVM"
   ]
  },
  {
   "cell_type": "code",
   "execution_count": 5,
   "metadata": {},
   "outputs": [],
   "source": [
    "from sklearn import datasets, svm, metrics\n",
    "\n",
    "############### Classification with grid search ##############\n",
    "# If you don't want to wait, comment this section and uncommnet section below with\n",
    "# standalone SVM classifier\n",
    "\n",
    "# Create parameters grid for RBF kernel, we have to set C and gamma\n",
    "from sklearn.model_selection import GridSearchCV\n",
    "# generate matrix with all gammas\n",
    "# [ [10^-4, 2*10^-4, 5*10^-4], \n",
    "#   [10^-3, 2*10^-3, 5*10^-3],\n",
    "#   ......\n",
    "#   [10^3, 2*10^3, 5*10^3] ]\n",
    "#gamma_range = np.outer(np.logspace(-4, 3, 8),np.array([1,2, 5]))\n",
    "gamma_range = np.outer(np.logspace(-3, 0, 4),np.array([1,5]))\n",
    "gamma_range = gamma_range.flatten()\n",
    "\n",
    "# generate matrix with all C\n",
    "#C_range = np.outer(np.logspace(-3, 3, 7),np.array([1,2, 5]))\n",
    "C_range = np.outer(np.logspace(-1, 1, 3),np.array([1,5]))\n",
    "# flatten matrix, change to 1D numpy array\n",
    "C_range = C_range.flatten()\n",
    "\n",
    "parameters = {'kernel':['rbf'], 'C':C_range, 'gamma': gamma_range}"
   ]
  },
  {
   "cell_type": "code",
   "execution_count": 6,
   "metadata": {},
   "outputs": [],
   "source": [
    "# reshape X data to 2d for linear fitting\n",
    "nsamples, nx, ny = X_train.shape\n",
    "X_train = X_train.reshape((nsamples,nx*ny))\n",
    "nsamples, nx, ny = X_test.shape\n",
    "X_test = X_test.reshape((nsamples,nx*ny))"
   ]
  },
  {
   "cell_type": "code",
   "execution_count": 7,
   "metadata": {},
   "outputs": [
    {
     "data": {
      "text/plain": [
       "(42500, 4096)"
      ]
     },
     "execution_count": 7,
     "metadata": {},
     "output_type": "execute_result"
    }
   ],
   "source": [
    "X_train.shape"
   ]
  },
  {
   "cell_type": "code",
   "execution_count": 8,
   "metadata": {},
   "outputs": [],
   "source": [
    "def plot_param_space_scores(scores, C_range, gamma_range):\n",
    "    \"\"\"\n",
    "    Draw heatmap of the validation accuracy as a function of gamma and C\n",
    "    \n",
    "    \n",
    "    Parameters\n",
    "    ----------\n",
    "    scores - 2D numpy array with accuracies\n",
    "    \n",
    "    \"\"\"\n",
    "    #\n",
    "    # The score are encoded as colors with the hot colormap which varies from dark\n",
    "    # red to bright yellow. As the most interesting scores are all located in the\n",
    "    # 0.92 to 0.97 range we use a custom normalizer to set the mid-point to 0.92 so\n",
    "    # as to make it easier to visualize the small variations of score values in the\n",
    "    # interesting range while not brutally collapsing all the low score values to\n",
    "    # the same color.\n",
    "\n",
    "    \n",
    "    plt.figure(figsize=(8, 6))\n",
    "    plt.subplots_adjust(left=.2, right=0.95, bottom=0.15, top=0.95)\n",
    "    plt.imshow(scores, interpolation='nearest', cmap=plt.cm.jet,\n",
    "               norm=MidpointNormalize(vmin=0.5, midpoint=0.9))\n",
    "    plt.xlabel('gamma')\n",
    "    plt.ylabel('C')\n",
    "    plt.colorbar()\n",
    "    plt.xticks(np.arange(len(gamma_range)), gamma_range, rotation=45)\n",
    "    plt.yticks(np.arange(len(C_range)), C_range)\n",
    "    plt.title('Validation accuracy')  "
   ]
  },
  {
   "cell_type": "code",
   "execution_count": 9,
   "metadata": {},
   "outputs": [],
   "source": [
    "import time\n",
    "import datetime as dt"
   ]
  },
  {
   "cell_type": "code",
   "execution_count": null,
   "metadata": {},
   "outputs": [
    {
     "name": "stdout",
     "output_type": "stream",
     "text": [
      "Start param searching at 2018-03-05 02:43:09.396471\n",
      "Fitting 3 folds for each of 48 candidates, totalling 144 fits\n",
      "[CV] gamma=0.001, kernel=rbf, C=0.1 ..................................\n",
      "[CV] .................. gamma=0.001, kernel=rbf, C=0.1, total=170.5min\n",
      "[CV] gamma=0.001, kernel=rbf, C=0.1 ..................................\n"
     ]
    },
    {
     "name": "stderr",
     "output_type": "stream",
     "text": [
      "[Parallel(n_jobs=1)]: Done   1 out of   1 | elapsed: 243.7min remaining:    0.0s\n"
     ]
    },
    {
     "name": "stdout",
     "output_type": "stream",
     "text": [
      "[CV] .................. gamma=0.001, kernel=rbf, C=0.1, total=171.3min\n",
      "[CV] gamma=0.001, kernel=rbf, C=0.1 ..................................\n"
     ]
    }
   ],
   "source": [
    "\n",
    "svm_clsf = svm.SVC()\n",
    "grid_clsf = GridSearchCV(estimator=svm_clsf,param_grid=parameters,n_jobs=1, verbose=2)\n",
    "\n",
    "\n",
    "start_time = dt.datetime.now()\n",
    "print('Start param searching at {}'.format(str(start_time)))\n",
    "\n",
    "grid_clsf.fit(X_train, y_train)\n",
    "\n",
    "elapsed_time= dt.datetime.now() - start_time\n",
    "print('Elapsed time, param searching {}'.format(str(elapsed_time)))\n",
    "sorted(grid_clsf.cv_results_.keys())\n",
    "\n",
    "classifier = grid_clsf.best_estimator_\n",
    "params = grid_clsf.best_params_\n",
    "\n",
    "\n",
    "\n",
    "scores = grid_clsf.cv_results_['mean_test_score'].reshape(len(C_range),\n",
    "                                                     len(gamma_range))\n",
    "\n",
    "plot_param_space_scores(scores, C_range, gamma_range)\n",
    "\n",
    "\n",
    "######################### end grid section #############"
   ]
  },
  {
   "cell_type": "code",
   "execution_count": null,
   "metadata": {},
   "outputs": [
    {
     "name": "stdout",
     "output_type": "stream",
     "text": [
      "Start learning at 2018-03-05 14:16:10.453655\n"
     ]
    }
   ],
   "source": [
    "################ Classifier with good params ###########\n",
    "# Create a classifier: a support vector classifier\n",
    "\n",
    "param_C = 5\n",
    "param_gamma = 0.05\n",
    "classifier = svm.SVC(C=param_C,gamma=param_gamma)\n",
    "\n",
    "# We learn the digits on train part\n",
    "start_time = dt.datetime.now()\n",
    "print('Start learning at {}'.format(str(start_time)))\n",
    "classifier.fit(X_train, y_train)\n",
    "end_time = dt.datetime.now() \n",
    "print('Stop learning {}'.format(str(end_time)))\n",
    "elapsed_time= end_time - start_time\n",
    "print('Elapsed learning {}'.format(str(elapsed_time)))\n",
    "\n",
    "########################################################"
   ]
  },
  {
   "cell_type": "markdown",
   "metadata": {},
   "source": [
    "## Q2 Feed Forward NN with BP"
   ]
  },
  {
   "cell_type": "code",
   "execution_count": 23,
   "metadata": {},
   "outputs": [],
   "source": [
    "# the progress meter widget\n",
    "from tqdm import tqdm\n",
    "import numpy \n",
    "import math\n",
    "import scipy.special\n",
    "\n",
    "# define the Feed Forward NN:\n",
    "class NeuralNetwork:\n",
    "    # initialization\n",
    "    # dims -> dimenison of the neural network architecture: [64*64 100 10] This is one hidden layer with 100 HU.\n",
    "    # alpha -> learning rate\n",
    "    # decay -> l1 weight decay\n",
    "    # activation_func -> activation function //!!! maybe better to use LeRU for each layer ****TODO******\n",
    "    # activation_func_prime -> differential activation function\n",
    "    def __init__(self, dims, alpha, decay, activation_func, activation_func_prime):\n",
    "        self.layers = [] # contain all layers of neurons.\n",
    "        # hidden layer:\n",
    "        for i in range(1, len(dims)):\n",
    "            # hidden layer weight list for each hidden layer\n",
    "            hiddenlayer_weights = []\n",
    "            # for each layer, and each neuron, they contains the last layer's weight combination\n",
    "            # the number of weight that the current neuron pocessessed is equal to the last layer's number:\n",
    "            for j in range(dims[i]):\n",
    "                # unifying the weight distribution between [-1,1]\n",
    "                hiddenlayer_weights.append(numpy.random.uniform(-1, 1, dims[i - 1]))\n",
    "            hiddenlayer_weights = numpy.array(hiddenlayer_weights)\n",
    "        self.layers.append((hiddenlayer_weights))\n",
    "        self.alpha = alpha\n",
    "        self.weight_decay = decay\n",
    "        self.f = activation_func\n",
    "        self.f_prime = activation_func_prime\n",
    "        \n",
    "    # feed forward\n",
    "    def feedForward(self, inputs):\n",
    "        # loop through the layers and produce the output from the production of last layer\n",
    "        # inputs and the current neurons' weight lists\n",
    "        layer_outputs = []\n",
    "        # loop layers of weights:\n",
    "        for i in range(len(self.layers)):\n",
    "            if i == 0:\n",
    "                # first layer should be the input layer\n",
    "                current_output = self.f(numpy.dot(self.layers[i], inputs))\n",
    "            else:\n",
    "                # other layer's input should be the last layer's output\n",
    "                current_output = self.f(numpy.dot(self.layers[i], layer_outputs[i-1]))\n",
    "            current_output = numpy.array(current_output)\n",
    "            layer_outputs.append(current_output)\n",
    "        return layer_outputs\n",
    "        \n",
    "    # back propogation\n",
    "    def backPropagation(self, inputs, targets):\n",
    "        # implement the BP:\n",
    "        # for each layer we adjust the weight list according to the error function\n",
    "        # conversion of inputs and target arrays to transposed numpy matrixes\n",
    "        inputs = numpy.transpose(numpy.array([numpy.array(inputs)]))\n",
    "        targets = numpy.transpose(numpy.array([numpy.array(targets)]))\n",
    "        # outputs of each layer, we need all the layer's data to perform BP\n",
    "        outputs = self.feedForward(inputs)\n",
    "        # get error from the last layer output and target\n",
    "        outErr = targets - outputs[len(outputs) - 1]\n",
    "        # initialize hidden layer errors for each HU\n",
    "        HiddenErrs = [None] * (len(outputs) - 1)\n",
    "        # loop backward to update the previous layer's error\n",
    "        for i in reversed(range(len(outputs) - 1)):\n",
    "            HiddenErr = 0\n",
    "            if i == len(outputs) - 2:\n",
    "                # from the output error\n",
    "                hiddenErr = numpy.dot(numpy.transpose(self.layers[i + 1]), outErr)\n",
    "            else:\n",
    "                # from 'back' layer\n",
    "                hiddenErr = numpy.dot(numpy.transpose(self.layers[i + 1]), hiddenErrs[i + 1])\n",
    "            HiddenErrs[i] = hiddenErr\n",
    "        # update the weights using l1 weight decay\n",
    "        for i in reversed(range(len(self.layers))):\n",
    "            if i == len(self.layers) - 1:\n",
    "                self.layers[i] += (self.alpha * numpy.dot((outErr * self.f_prime(outputs[i])), numpy.transpose(outputs[i - 1]))) + (self.alpha * self.weight_decay * self.layers[i])\n",
    "            elif i == 0:\n",
    "                self.layers[i] += (self.alpha * numpy.dot((HiddenErrs[i] * self.f_prime(outputs[i])), numpy.transpose(inputs))) + (self.alpha * self.weight_decay * self.layers[i])\n",
    "            else:\n",
    "                self.layers[i] += (self.alpha * numpy.dot((HiddenErrs[i] * self.f_prime(outputs[i])), numpy.transpose(outputs[i - 1]))) + (self.alpha * self.weight_decay * self.layers[i])\n",
    "\n",
    "    # train\n",
    "    def train(self, inputs, targets):\n",
    "        self.backPropagation(inputs, targets)\n",
    "        \n",
    "    def query(self, inputs):\n",
    "        inputs = numpy.transpose(numpy.array([numpy.array(inputs)]))\n",
    "        return self.feedForward(inputs)[-1]"
   ]
  },
  {
   "cell_type": "code",
   "execution_count": 27,
   "metadata": {},
   "outputs": [
    {
     "name": "stderr",
     "output_type": "stream",
     "text": [
      "100%|██████████| 100000/100000 [00:10<00:00, 9198.86it/s]"
     ]
    },
    {
     "name": "stdout",
     "output_type": "stream",
     "text": [
      "[[0.]]\n",
      "[[0.]]\n",
      "[[0.]]\n",
      "[[0.5]]\n"
     ]
    },
    {
     "name": "stderr",
     "output_type": "stream",
     "text": [
      "\n"
     ]
    }
   ],
   "source": [
    "# test of the neural network\n",
    "nn = NeuralNetwork([2, 2, 1], 0.01, 0.001, lambda x: scipy.special.expit(x), lambda x: x * (1 - x))\n",
    "for i in tqdm(range(100000)):\n",
    "    nn.train([0, 0], [0])\n",
    "    nn.train([0, 1], [0])\n",
    "    nn.train([1, 1], [1])\n",
    "    nn.train([1, 0], [0])\n",
    "    nn.train([1, 1], [1])\n",
    "\n",
    "print(nn.query([0, 1]))\n",
    "print(nn.query([1, 1]))\n",
    "print(nn.query([1, 0]))\n",
    "print(nn.query([0, 0]))\n"
   ]
  },
  {
   "cell_type": "code",
   "execution_count": null,
   "metadata": {},
   "outputs": [],
   "source": []
  }
 ],
 "metadata": {
  "kernelspec": {
   "display_name": "Python 3",
   "language": "python",
   "name": "python3"
  },
  "language_info": {
   "codemirror_mode": {
    "name": "ipython",
    "version": 3
   },
   "file_extension": ".py",
   "mimetype": "text/x-python",
   "name": "python",
   "nbconvert_exporter": "python",
   "pygments_lexer": "ipython3",
   "version": "3.5.2"
  }
 },
 "nbformat": 4,
 "nbformat_minor": 1
}
